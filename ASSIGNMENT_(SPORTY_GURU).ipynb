{
  "nbformat": 4,
  "nbformat_minor": 0,
  "metadata": {
    "colab": {
      "name": "ASSIGNMENT (SPORTY GURU).ipynb",
      "provenance": [],
      "collapsed_sections": [
        "rYxGfA49V9Oa"
      ],
      "authorship_tag": "ABX9TyNBIMz8Q2hJs90SY6eygbFs",
      "include_colab_link": true
    },
    "kernelspec": {
      "name": "python3",
      "display_name": "Python 3"
    },
    "language_info": {
      "name": "python"
    },
    "accelerator": "GPU"
  },
  "cells": [
    {
      "cell_type": "markdown",
      "metadata": {
        "id": "view-in-github",
        "colab_type": "text"
      },
      "source": [
        "<a href=\"https://colab.research.google.com/github/dikshank/SPORTY-GURU-ASSIGNMENT/blob/main/ASSIGNMENT_(SPORTY_GURU).ipynb\" target=\"_parent\"><img src=\"https://colab.research.google.com/assets/colab-badge.svg\" alt=\"Open In Colab\"/></a>"
      ]
    },
    {
      "cell_type": "code",
      "execution_count": 101,
      "metadata": {
        "id": "nnQTHtLJpe8P"
      },
      "outputs": [],
      "source": [
        "import tensorflow as tf\n",
        "import keras\n",
        "from keras.models import Sequential\n",
        "from keras.layers import InputLayer,Dense,Flatten,BatchNormalization,ReLU,Conv2D,MaxPool2D,Dropout\n",
        "from keras.regularizers import l2\n",
        "from tensorflow.keras.utils import to_categorical\n",
        "from keras.preprocessing.image import ImageDataGenerator\n",
        "import matplotlib.pyplot as plt"
      ]
    },
    {
      "cell_type": "code",
      "source": [
        "# Loading the dataset\n",
        "(x_train, y_train), (x_test, y_test) = keras.datasets.cifar10.load_data()"
      ],
      "metadata": {
        "id": "Q-0J0fQkreCi"
      },
      "execution_count": 102,
      "outputs": []
    },
    {
      "cell_type": "code",
      "source": [
        "x_train.shape"
      ],
      "metadata": {
        "colab": {
          "base_uri": "https://localhost:8080/"
        },
        "id": "-zr5OTQgrf6G",
        "outputId": "36e0aceb-be32-4757-a4d9-1d0133e026cd"
      },
      "execution_count": 103,
      "outputs": [
        {
          "output_type": "execute_result",
          "data": {
            "text/plain": [
              "(50000, 32, 32, 3)"
            ]
          },
          "metadata": {},
          "execution_count": 103
        }
      ]
    },
    {
      "cell_type": "code",
      "source": [
        "y_train.shape"
      ],
      "metadata": {
        "colab": {
          "base_uri": "https://localhost:8080/"
        },
        "id": "cAIfsjlxrrTE",
        "outputId": "0da7eb86-f7aa-4a5e-fd34-61598a6306a1"
      },
      "execution_count": 104,
      "outputs": [
        {
          "output_type": "execute_result",
          "data": {
            "text/plain": [
              "(50000, 1)"
            ]
          },
          "metadata": {},
          "execution_count": 104
        }
      ]
    },
    {
      "cell_type": "code",
      "source": [
        "x_test.shape"
      ],
      "metadata": {
        "colab": {
          "base_uri": "https://localhost:8080/"
        },
        "id": "uAdlDOOgruz-",
        "outputId": "cb299cd0-bf0b-4de8-f538-61ac0fe5f73c"
      },
      "execution_count": 105,
      "outputs": [
        {
          "output_type": "execute_result",
          "data": {
            "text/plain": [
              "(10000, 32, 32, 3)"
            ]
          },
          "metadata": {},
          "execution_count": 105
        }
      ]
    },
    {
      "cell_type": "code",
      "source": [
        "y_test.shape"
      ],
      "metadata": {
        "colab": {
          "base_uri": "https://localhost:8080/"
        },
        "id": "JGI00ecKrxq2",
        "outputId": "744e3ba8-d431-4741-ed0a-c4623d498410"
      },
      "execution_count": 106,
      "outputs": [
        {
          "output_type": "execute_result",
          "data": {
            "text/plain": [
              "(10000, 1)"
            ]
          },
          "metadata": {},
          "execution_count": 106
        }
      ]
    },
    {
      "cell_type": "code",
      "source": [
        ""
      ],
      "metadata": {
        "id": "FJlbA6lyV_Vr"
      },
      "execution_count": 106,
      "outputs": []
    },
    {
      "cell_type": "markdown",
      "source": [
        "# First network (NetA)"
      ],
      "metadata": {
        "id": "rYxGfA49V9Oa"
      }
    },
    {
      "cell_type": "code",
      "source": [
        "class NetA():\n",
        "  @staticmethod\n",
        "  def Network_A():\n",
        "    \n",
        "    NetA = Sequential(name=\"NetA\")\n",
        "    NetA.add(InputLayer(input_shape=(32,32,3)))\n",
        "    NetA.add(Flatten())\n",
        "    \n",
        "    \n",
        "    NetA.add(Dense(units=10,activation=\"softmax\"))\n",
        "    \n",
        "    return NetA"
      ],
      "metadata": {
        "id": "lQaIlnhjS-1r"
      },
      "execution_count": 135,
      "outputs": []
    },
    {
      "cell_type": "code",
      "source": [
        "NetworkA = NetA.Network_A()"
      ],
      "metadata": {
        "id": "E2J_oAhzsVo9"
      },
      "execution_count": 136,
      "outputs": []
    },
    {
      "cell_type": "code",
      "source": [
        "NetworkA.summary()"
      ],
      "metadata": {
        "colab": {
          "base_uri": "https://localhost:8080/"
        },
        "id": "CcbHkn7Zscr7",
        "outputId": "9a62cad2-6f59-4cdb-9e59-d109060f58e1"
      },
      "execution_count": 137,
      "outputs": [
        {
          "output_type": "stream",
          "name": "stdout",
          "text": [
            "Model: \"NetA\"\n",
            "_________________________________________________________________\n",
            " Layer (type)                Output Shape              Param #   \n",
            "=================================================================\n",
            " flatten_13 (Flatten)        (None, 3072)              0         \n",
            "                                                                 \n",
            " dense_13 (Dense)            (None, 10)                30730     \n",
            "                                                                 \n",
            "=================================================================\n",
            "Total params: 30,730\n",
            "Trainable params: 30,730\n",
            "Non-trainable params: 0\n",
            "_________________________________________________________________\n"
          ]
        }
      ]
    },
    {
      "cell_type": "code",
      "source": [
        "# NetA_optimizer = keras.optimizers.adam_v2.Adam(learning_rate=0.001, beta_1=0.3)"
      ],
      "metadata": {
        "id": "qAF5FbG1shiV"
      },
      "execution_count": 138,
      "outputs": []
    },
    {
      "cell_type": "code",
      "source": [
        "NetworkA.compile(optimizer='adam',loss='sparse_categorical_crossentropy',metrics=['accuracy'])"
      ],
      "metadata": {
        "id": "gy-PmNjSsmLd"
      },
      "execution_count": 139,
      "outputs": []
    },
    {
      "cell_type": "code",
      "source": [
        "NetA_performance = NetworkA.fit(x_train, y_train, batch_size=250,validation_data=(x_test,y_test),epochs=50,verbose=1)"
      ],
      "metadata": {
        "colab": {
          "base_uri": "https://localhost:8080/"
        },
        "id": "uBfIBgaWsmKl",
        "outputId": "050e1bcb-d393-4a56-ca05-5eb239a32f79"
      },
      "execution_count": 140,
      "outputs": [
        {
          "output_type": "stream",
          "name": "stdout",
          "text": [
            "Epoch 1/50\n",
            "200/200 [==============================] - 1s 4ms/step - loss: 90.0530 - accuracy: 0.2102 - val_loss: 81.7755 - val_accuracy: 0.2005\n",
            "Epoch 2/50\n",
            "200/200 [==============================] - 1s 3ms/step - loss: 60.3531 - accuracy: 0.2406 - val_loss: 55.0481 - val_accuracy: 0.2355\n",
            "Epoch 3/50\n",
            "200/200 [==============================] - 1s 3ms/step - loss: 62.8500 - accuracy: 0.2480 - val_loss: 62.4991 - val_accuracy: 0.2485\n",
            "Epoch 4/50\n",
            "200/200 [==============================] - 1s 3ms/step - loss: 61.8915 - accuracy: 0.2595 - val_loss: 35.1649 - val_accuracy: 0.3020\n",
            "Epoch 5/50\n",
            "200/200 [==============================] - 1s 3ms/step - loss: 56.8986 - accuracy: 0.2626 - val_loss: 48.4710 - val_accuracy: 0.3115\n",
            "Epoch 6/50\n",
            "200/200 [==============================] - 1s 3ms/step - loss: 59.1272 - accuracy: 0.2614 - val_loss: 59.7942 - val_accuracy: 0.2615\n",
            "Epoch 7/50\n",
            "200/200 [==============================] - 1s 3ms/step - loss: 57.4475 - accuracy: 0.2639 - val_loss: 55.4156 - val_accuracy: 0.2312\n",
            "Epoch 8/50\n",
            "200/200 [==============================] - 1s 3ms/step - loss: 58.2311 - accuracy: 0.2628 - val_loss: 92.4824 - val_accuracy: 0.2215\n",
            "Epoch 9/50\n",
            "200/200 [==============================] - 1s 3ms/step - loss: 56.2873 - accuracy: 0.2716 - val_loss: 83.2130 - val_accuracy: 0.2427\n",
            "Epoch 10/50\n",
            "200/200 [==============================] - 1s 3ms/step - loss: 55.5956 - accuracy: 0.2676 - val_loss: 129.4775 - val_accuracy: 0.2193\n",
            "Epoch 11/50\n",
            "200/200 [==============================] - 1s 2ms/step - loss: 51.9485 - accuracy: 0.2781 - val_loss: 54.5189 - val_accuracy: 0.2504\n",
            "Epoch 12/50\n",
            "200/200 [==============================] - 1s 3ms/step - loss: 62.9118 - accuracy: 0.2671 - val_loss: 36.7303 - val_accuracy: 0.2801\n",
            "Epoch 13/50\n",
            "200/200 [==============================] - 0s 2ms/step - loss: 57.8079 - accuracy: 0.2680 - val_loss: 113.1983 - val_accuracy: 0.2396\n",
            "Epoch 14/50\n",
            "200/200 [==============================] - 1s 3ms/step - loss: 58.9626 - accuracy: 0.2756 - val_loss: 89.0955 - val_accuracy: 0.1881\n",
            "Epoch 15/50\n",
            "200/200 [==============================] - 1s 3ms/step - loss: 59.4589 - accuracy: 0.2693 - val_loss: 52.1981 - val_accuracy: 0.2860\n",
            "Epoch 16/50\n",
            "200/200 [==============================] - 1s 3ms/step - loss: 51.9960 - accuracy: 0.2799 - val_loss: 71.5162 - val_accuracy: 0.2748\n",
            "Epoch 17/50\n",
            "200/200 [==============================] - 1s 3ms/step - loss: 59.1186 - accuracy: 0.2702 - val_loss: 59.8696 - val_accuracy: 0.2408\n",
            "Epoch 18/50\n",
            "200/200 [==============================] - 1s 3ms/step - loss: 58.0472 - accuracy: 0.2718 - val_loss: 104.9157 - val_accuracy: 0.1967\n",
            "Epoch 19/50\n",
            "200/200 [==============================] - 1s 3ms/step - loss: 52.5158 - accuracy: 0.2817 - val_loss: 63.4353 - val_accuracy: 0.2692\n",
            "Epoch 20/50\n",
            "200/200 [==============================] - 1s 3ms/step - loss: 50.5784 - accuracy: 0.2818 - val_loss: 65.1627 - val_accuracy: 0.2644\n",
            "Epoch 21/50\n",
            "200/200 [==============================] - 1s 3ms/step - loss: 55.2424 - accuracy: 0.2776 - val_loss: 55.2778 - val_accuracy: 0.2822\n",
            "Epoch 22/50\n",
            "200/200 [==============================] - 1s 3ms/step - loss: 53.8672 - accuracy: 0.2787 - val_loss: 75.7602 - val_accuracy: 0.2615\n",
            "Epoch 23/50\n",
            "200/200 [==============================] - 1s 3ms/step - loss: 54.1831 - accuracy: 0.2839 - val_loss: 82.9469 - val_accuracy: 0.2103\n",
            "Epoch 24/50\n",
            "200/200 [==============================] - 1s 3ms/step - loss: 55.3024 - accuracy: 0.2757 - val_loss: 108.4710 - val_accuracy: 0.1336\n",
            "Epoch 25/50\n",
            "200/200 [==============================] - 1s 3ms/step - loss: 57.3403 - accuracy: 0.2807 - val_loss: 65.4817 - val_accuracy: 0.2527\n",
            "Epoch 26/50\n",
            "200/200 [==============================] - 1s 3ms/step - loss: 55.2322 - accuracy: 0.2752 - val_loss: 44.6294 - val_accuracy: 0.3059\n",
            "Epoch 27/50\n",
            "200/200 [==============================] - 1s 3ms/step - loss: 53.7409 - accuracy: 0.2813 - val_loss: 40.3201 - val_accuracy: 0.2820\n",
            "Epoch 28/50\n",
            "200/200 [==============================] - 1s 3ms/step - loss: 54.8478 - accuracy: 0.2767 - val_loss: 44.2610 - val_accuracy: 0.2822\n",
            "Epoch 29/50\n",
            "200/200 [==============================] - 1s 3ms/step - loss: 52.1831 - accuracy: 0.2854 - val_loss: 54.8268 - val_accuracy: 0.2888\n",
            "Epoch 30/50\n",
            "200/200 [==============================] - 1s 3ms/step - loss: 55.2967 - accuracy: 0.2834 - val_loss: 82.7869 - val_accuracy: 0.2562\n",
            "Epoch 31/50\n",
            "200/200 [==============================] - 1s 3ms/step - loss: 57.1474 - accuracy: 0.2842 - val_loss: 43.2178 - val_accuracy: 0.3141\n",
            "Epoch 32/50\n",
            "200/200 [==============================] - 1s 3ms/step - loss: 55.6646 - accuracy: 0.2837 - val_loss: 33.0964 - val_accuracy: 0.3363\n",
            "Epoch 33/50\n",
            "200/200 [==============================] - 1s 3ms/step - loss: 53.6561 - accuracy: 0.2805 - val_loss: 100.9819 - val_accuracy: 0.1637\n",
            "Epoch 34/50\n",
            "200/200 [==============================] - 1s 3ms/step - loss: 65.7691 - accuracy: 0.2769 - val_loss: 61.2053 - val_accuracy: 0.2783\n",
            "Epoch 35/50\n",
            "200/200 [==============================] - 1s 3ms/step - loss: 46.4391 - accuracy: 0.2940 - val_loss: 50.3016 - val_accuracy: 0.2548\n",
            "Epoch 36/50\n",
            "200/200 [==============================] - 1s 3ms/step - loss: 54.0522 - accuracy: 0.2847 - val_loss: 80.3392 - val_accuracy: 0.2798\n",
            "Epoch 37/50\n",
            "200/200 [==============================] - 1s 3ms/step - loss: 50.2349 - accuracy: 0.2902 - val_loss: 44.4692 - val_accuracy: 0.2948\n",
            "Epoch 38/50\n",
            "200/200 [==============================] - 1s 3ms/step - loss: 58.2101 - accuracy: 0.2849 - val_loss: 52.9761 - val_accuracy: 0.2990\n",
            "Epoch 39/50\n",
            "200/200 [==============================] - 1s 3ms/step - loss: 55.9978 - accuracy: 0.2846 - val_loss: 60.1980 - val_accuracy: 0.2125\n",
            "Epoch 40/50\n",
            "200/200 [==============================] - 1s 3ms/step - loss: 60.1108 - accuracy: 0.2851 - val_loss: 35.2113 - val_accuracy: 0.3316\n",
            "Epoch 41/50\n",
            "200/200 [==============================] - 1s 3ms/step - loss: 47.0222 - accuracy: 0.3011 - val_loss: 39.9574 - val_accuracy: 0.2629\n",
            "Epoch 42/50\n",
            "200/200 [==============================] - 1s 3ms/step - loss: 52.1220 - accuracy: 0.2874 - val_loss: 36.8029 - val_accuracy: 0.3109\n",
            "Epoch 43/50\n",
            "200/200 [==============================] - 1s 3ms/step - loss: 54.6020 - accuracy: 0.2832 - val_loss: 56.3156 - val_accuracy: 0.2621\n",
            "Epoch 44/50\n",
            "200/200 [==============================] - 1s 3ms/step - loss: 49.7399 - accuracy: 0.2878 - val_loss: 44.7149 - val_accuracy: 0.2562\n",
            "Epoch 45/50\n",
            "200/200 [==============================] - 1s 3ms/step - loss: 52.8261 - accuracy: 0.2833 - val_loss: 61.1569 - val_accuracy: 0.2775\n",
            "Epoch 46/50\n",
            "200/200 [==============================] - 1s 3ms/step - loss: 58.7820 - accuracy: 0.2864 - val_loss: 68.9520 - val_accuracy: 0.2580\n",
            "Epoch 47/50\n",
            "200/200 [==============================] - 1s 3ms/step - loss: 62.7622 - accuracy: 0.2763 - val_loss: 133.8737 - val_accuracy: 0.1661\n",
            "Epoch 48/50\n",
            "200/200 [==============================] - 1s 3ms/step - loss: 46.5612 - accuracy: 0.3031 - val_loss: 72.9195 - val_accuracy: 0.2336\n",
            "Epoch 49/50\n",
            "200/200 [==============================] - 1s 3ms/step - loss: 53.6242 - accuracy: 0.2863 - val_loss: 36.4408 - val_accuracy: 0.3071\n",
            "Epoch 50/50\n",
            "200/200 [==============================] - 1s 3ms/step - loss: 51.4332 - accuracy: 0.2930 - val_loss: 49.6112 - val_accuracy: 0.2487\n"
          ]
        }
      ]
    },
    {
      "cell_type": "code",
      "source": [
        "NetA_training_loss = NetA_performance.history['loss']"
      ],
      "metadata": {
        "id": "NJPwizZzuo-B"
      },
      "execution_count": 141,
      "outputs": []
    },
    {
      "cell_type": "code",
      "source": [
        "NetA_test_loss = NetA_performance.history['val_loss']"
      ],
      "metadata": {
        "id": "mQ7kjXNMuo6T"
      },
      "execution_count": 142,
      "outputs": []
    },
    {
      "cell_type": "code",
      "source": [
        "NetA_epoches = range(1,len(NetA_training_loss)+1)"
      ],
      "metadata": {
        "id": "GiXc2nNzuo5Q"
      },
      "execution_count": 143,
      "outputs": []
    },
    {
      "cell_type": "code",
      "source": [
        "plt.plot(NetA_epoches,NetA_training_loss,'go',label='NetA_training_loss')\n",
        "plt.plot(NetA_epoches,NetA_test_loss,'b',label='NetA_test_loss')\n",
        "plt.title('NetA Training and Test_loss')\n",
        "plt.xlabel('NetA_loss')\n",
        "plt.ylabel('epoches')\n",
        "plt.legend()\n",
        "plt.show()"
      ],
      "metadata": {
        "colab": {
          "base_uri": "https://localhost:8080/",
          "height": 296
        },
        "id": "5qeEukWXwlYe",
        "outputId": "dbe62714-1900-4671-9835-209d7c36d557"
      },
      "execution_count": 144,
      "outputs": [
        {
          "output_type": "display_data",
          "data": {
            "image/png": "[encoded data removed]",
            "text/plain": [
              "<Figure size 432x288 with 1 Axes>"
            ]
          },
          "metadata": {
            "needs_background": "light"
          }
        }
      ]
    },
    {
      "cell_type": "code",
      "source": [
        ""
      ],
      "metadata": {
        "id": "iqx18dBIwlXZ"
      },
      "execution_count": null,
      "outputs": []
    },
    {
      "cell_type": "code",
      "source": [
        ""
      ],
      "metadata": {
        "id": "NlsqVC2ewlTX"
      },
      "execution_count": null,
      "outputs": []
    },
    {
      "cell_type": "code",
      "source": [
        ""
      ],
      "metadata": {
        "id": "9Yx5DjTCwlSY"
      },
      "execution_count": null,
      "outputs": []
    },
    {
      "cell_type": "code",
      "source": [
        ""
      ],
      "metadata": {
        "id": "JCgN8mMHuo0i"
      },
      "execution_count": null,
      "outputs": []
    },
    {
      "cell_type": "markdown",
      "source": [
        "# Second network (NetB)"
      ],
      "metadata": {
        "id": "byU9_Og5WFma"
      }
    },
    {
      "cell_type": "code",
      "source": [
        "# making the data zero mean and one std\n",
        "norm_x_train = tf.image.per_image_standardization(x_train)\n",
        "norm_x_test = tf.image.per_image_standardization(x_test)"
      ],
      "metadata": {
        "id": "wCzVXvbjYW-N"
      },
      "execution_count": 145,
      "outputs": []
    },
    {
      "cell_type": "code",
      "source": [
        "class NetB:\n",
        "  @staticmethod  \n",
        "  def Network_B():\n",
        "      \n",
        "      NetB = Sequential(name=\"NetB\")\n",
        "      NetB.add(InputLayer(input_shape=(32,32,3)))\n",
        "      NetB.add(Flatten())\n",
        "      \n",
        "      NetB.add(Dense(units=300,kernel_initializer='glorot_normal',kernel_regularizer=l2(l=0.01)))\n",
        "      NetB.add(BatchNormalization())\n",
        "      NetB.add(ReLU())\n",
        "\n",
        "      # NetB.add(Dropout(0.25))\n",
        "      NetB.add(Dense(units=10,activation=\"softmax\"))\n",
        "      \n",
        "      return NetB"
      ],
      "metadata": {
        "id": "jOmAzomRsmHt"
      },
      "execution_count": 146,
      "outputs": []
    },
    {
      "cell_type": "code",
      "source": [
        "NetworkB = NetB.Network_B()"
      ],
      "metadata": {
        "id": "uWUq1o9UsmG1"
      },
      "execution_count": 147,
      "outputs": []
    },
    {
      "cell_type": "code",
      "source": [
        "NetworkB.summary()"
      ],
      "metadata": {
        "colab": {
          "base_uri": "https://localhost:8080/"
        },
        "id": "gdhMzTVUs2x4",
        "outputId": "1d2a2e44-cf50-41d5-cbb8-40f635b2bf45"
      },
      "execution_count": 148,
      "outputs": [
        {
          "output_type": "stream",
          "name": "stdout",
          "text": [
            "Model: \"NetB\"\n",
            "_________________________________________________________________\n",
            " Layer (type)                Output Shape              Param #   \n",
            "=================================================================\n",
            " flatten_14 (Flatten)        (None, 3072)              0         \n",
            "                                                                 \n",
            " dense_14 (Dense)            (None, 300)               921900    \n",
            "                                                                 \n",
            " batch_normalization_2 (Batc  (None, 300)              1200      \n",
            " hNormalization)                                                 \n",
            "                                                                 \n",
            " re_lu_9 (ReLU)              (None, 300)               0         \n",
            "                                                                 \n",
            " dense_15 (Dense)            (None, 10)                3010      \n",
            "                                                                 \n",
            "=================================================================\n",
            "Total params: 926,110\n",
            "Trainable params: 925,510\n",
            "Non-trainable params: 600\n",
            "_________________________________________________________________\n"
          ]
        }
      ]
    },
    {
      "cell_type": "code",
      "source": [
        "NetworkB.compile(optimizer='adam',loss='sparse_categorical_crossentropy',metrics=['accuracy'])"
      ],
      "metadata": {
        "id": "X3mNR1NVs2sU"
      },
      "execution_count": 149,
      "outputs": []
    },
    {
      "cell_type": "code",
      "source": [
        "NetB_performance = NetworkB.fit(norm_x_train, y_train, batch_size=250,validation_data=(norm_x_test,y_test),epochs=50,verbose=1)"
      ],
      "metadata": {
        "colab": {
          "base_uri": "https://localhost:8080/"
        },
        "id": "61SekmXvs2oL",
        "outputId": "121942ac-57db-4d22-900d-8e17b07bf6f2"
      },
      "execution_count": 150,
      "outputs": [
        {
          "output_type": "stream",
          "name": "stdout",
          "text": [
            "Epoch 1/50\n",
            "200/200 [==============================] - 1s 5ms/step - loss: 2.9758 - accuracy: 0.4081 - val_loss: 1.8241 - val_accuracy: 0.4337\n",
            "Epoch 2/50\n",
            "200/200 [==============================] - 1s 4ms/step - loss: 1.8061 - accuracy: 0.4389 - val_loss: 1.8079 - val_accuracy: 0.4283\n",
            "Epoch 3/50\n",
            "200/200 [==============================] - 1s 4ms/step - loss: 1.7882 - accuracy: 0.4442 - val_loss: 1.7516 - val_accuracy: 0.4448\n",
            "Epoch 4/50\n",
            "200/200 [==============================] - 1s 4ms/step - loss: 1.7654 - accuracy: 0.4527 - val_loss: 1.7910 - val_accuracy: 0.4380\n",
            "Epoch 5/50\n",
            "200/200 [==============================] - 1s 4ms/step - loss: 1.7559 - accuracy: 0.4526 - val_loss: 1.7567 - val_accuracy: 0.4580\n",
            "Epoch 6/50\n",
            "200/200 [==============================] - 1s 4ms/step - loss: 1.7475 - accuracy: 0.4540 - val_loss: 1.7430 - val_accuracy: 0.4503\n",
            "Epoch 7/50\n",
            "200/200 [==============================] - 1s 4ms/step - loss: 1.7374 - accuracy: 0.4586 - val_loss: 1.7521 - val_accuracy: 0.4524\n",
            "Epoch 8/50\n",
            "200/200 [==============================] - 1s 4ms/step - loss: 1.7240 - accuracy: 0.4605 - val_loss: 1.7258 - val_accuracy: 0.4606\n",
            "Epoch 9/50\n",
            "200/200 [==============================] - 1s 4ms/step - loss: 1.7216 - accuracy: 0.4637 - val_loss: 1.7687 - val_accuracy: 0.4366\n",
            "Epoch 10/50\n",
            "200/200 [==============================] - 1s 4ms/step - loss: 1.7130 - accuracy: 0.4654 - val_loss: 1.7144 - val_accuracy: 0.4612\n",
            "Epoch 11/50\n",
            "200/200 [==============================] - 1s 4ms/step - loss: 1.7067 - accuracy: 0.4673 - val_loss: 1.7041 - val_accuracy: 0.4603\n",
            "Epoch 12/50\n",
            "200/200 [==============================] - 1s 4ms/step - loss: 1.6975 - accuracy: 0.4689 - val_loss: 1.7433 - val_accuracy: 0.4563\n",
            "Epoch 13/50\n",
            "200/200 [==============================] - 1s 4ms/step - loss: 1.6944 - accuracy: 0.4684 - val_loss: 1.6819 - val_accuracy: 0.4706\n",
            "Epoch 14/50\n",
            "200/200 [==============================] - 1s 4ms/step - loss: 1.6818 - accuracy: 0.4740 - val_loss: 1.6994 - val_accuracy: 0.4640\n",
            "Epoch 15/50\n",
            "200/200 [==============================] - 1s 4ms/step - loss: 1.6766 - accuracy: 0.4748 - val_loss: 1.6867 - val_accuracy: 0.4727\n",
            "Epoch 16/50\n",
            "200/200 [==============================] - 1s 4ms/step - loss: 1.6763 - accuracy: 0.4749 - val_loss: 1.6888 - val_accuracy: 0.4697\n",
            "Epoch 17/50\n",
            "200/200 [==============================] - 1s 4ms/step - loss: 1.6691 - accuracy: 0.4763 - val_loss: 1.6976 - val_accuracy: 0.4582\n",
            "Epoch 18/50\n",
            "200/200 [==============================] - 1s 4ms/step - loss: 1.6590 - accuracy: 0.4791 - val_loss: 1.7015 - val_accuracy: 0.4622\n",
            "Epoch 19/50\n",
            "200/200 [==============================] - 1s 4ms/step - loss: 1.6566 - accuracy: 0.4799 - val_loss: 1.6807 - val_accuracy: 0.4673\n",
            "Epoch 20/50\n",
            "200/200 [==============================] - 1s 4ms/step - loss: 1.6448 - accuracy: 0.4843 - val_loss: 1.6748 - val_accuracy: 0.4715\n",
            "Epoch 21/50\n",
            "200/200 [==============================] - 1s 4ms/step - loss: 1.6473 - accuracy: 0.4843 - val_loss: 1.7042 - val_accuracy: 0.4556\n",
            "Epoch 22/50\n",
            "200/200 [==============================] - 1s 4ms/step - loss: 1.6432 - accuracy: 0.4833 - val_loss: 1.6514 - val_accuracy: 0.4794\n",
            "Epoch 23/50\n",
            "200/200 [==============================] - 1s 4ms/step - loss: 1.6428 - accuracy: 0.4854 - val_loss: 1.6779 - val_accuracy: 0.4689\n",
            "Epoch 24/50\n",
            "200/200 [==============================] - 1s 4ms/step - loss: 1.6350 - accuracy: 0.4873 - val_loss: 1.6671 - val_accuracy: 0.4738\n",
            "Epoch 25/50\n",
            "200/200 [==============================] - 1s 4ms/step - loss: 1.6320 - accuracy: 0.4877 - val_loss: 1.6474 - val_accuracy: 0.4752\n",
            "Epoch 26/50\n",
            "200/200 [==============================] - 1s 4ms/step - loss: 1.6250 - accuracy: 0.4927 - val_loss: 1.6507 - val_accuracy: 0.4833\n",
            "Epoch 27/50\n",
            "200/200 [==============================] - 1s 4ms/step - loss: 1.6243 - accuracy: 0.4895 - val_loss: 1.6567 - val_accuracy: 0.4842\n",
            "Epoch 28/50\n",
            "200/200 [==============================] - 1s 4ms/step - loss: 1.6211 - accuracy: 0.4902 - val_loss: 1.6603 - val_accuracy: 0.4736\n",
            "Epoch 29/50\n",
            "200/200 [==============================] - 1s 4ms/step - loss: 1.6179 - accuracy: 0.4910 - val_loss: 1.6686 - val_accuracy: 0.4743\n",
            "Epoch 30/50\n",
            "200/200 [==============================] - 1s 4ms/step - loss: 1.6176 - accuracy: 0.4920 - val_loss: 1.6405 - val_accuracy: 0.4837\n",
            "Epoch 31/50\n",
            "200/200 [==============================] - 1s 4ms/step - loss: 1.6120 - accuracy: 0.4911 - val_loss: 1.6664 - val_accuracy: 0.4713\n",
            "Epoch 32/50\n",
            "200/200 [==============================] - 1s 4ms/step - loss: 1.6110 - accuracy: 0.4922 - val_loss: 1.6660 - val_accuracy: 0.4724\n",
            "Epoch 33/50\n",
            "200/200 [==============================] - 1s 4ms/step - loss: 1.6080 - accuracy: 0.4959 - val_loss: 1.6735 - val_accuracy: 0.4686\n",
            "Epoch 34/50\n",
            "200/200 [==============================] - 1s 4ms/step - loss: 1.6106 - accuracy: 0.4935 - val_loss: 1.6451 - val_accuracy: 0.4791\n",
            "Epoch 35/50\n",
            "200/200 [==============================] - 1s 4ms/step - loss: 1.6014 - accuracy: 0.4953 - val_loss: 1.6489 - val_accuracy: 0.4815\n",
            "Epoch 36/50\n",
            "200/200 [==============================] - 1s 4ms/step - loss: 1.6005 - accuracy: 0.4954 - val_loss: 1.6560 - val_accuracy: 0.4814\n",
            "Epoch 37/50\n",
            "200/200 [==============================] - 1s 4ms/step - loss: 1.6009 - accuracy: 0.4964 - val_loss: 1.6582 - val_accuracy: 0.4682\n",
            "Epoch 38/50\n",
            "200/200 [==============================] - 1s 4ms/step - loss: 1.5993 - accuracy: 0.4967 - val_loss: 1.6552 - val_accuracy: 0.4754\n",
            "Epoch 39/50\n",
            "200/200 [==============================] - 1s 4ms/step - loss: 1.6019 - accuracy: 0.4964 - val_loss: 1.6350 - val_accuracy: 0.4828\n",
            "Epoch 40/50\n",
            "200/200 [==============================] - 1s 4ms/step - loss: 1.6004 - accuracy: 0.4986 - val_loss: 1.6273 - val_accuracy: 0.4899\n",
            "Epoch 41/50\n",
            "200/200 [==============================] - 1s 4ms/step - loss: 1.5946 - accuracy: 0.4965 - val_loss: 1.6482 - val_accuracy: 0.4745\n",
            "Epoch 42/50\n",
            "200/200 [==============================] - 1s 4ms/step - loss: 1.5930 - accuracy: 0.5014 - val_loss: 1.6467 - val_accuracy: 0.4824\n",
            "Epoch 43/50\n",
            "200/200 [==============================] - 1s 4ms/step - loss: 1.5959 - accuracy: 0.4983 - val_loss: 1.6569 - val_accuracy: 0.4806\n",
            "Epoch 44/50\n",
            "200/200 [==============================] - 1s 4ms/step - loss: 1.5946 - accuracy: 0.4991 - val_loss: 1.6568 - val_accuracy: 0.4757\n",
            "Epoch 45/50\n",
            "200/200 [==============================] - 1s 4ms/step - loss: 1.5980 - accuracy: 0.4996 - val_loss: 1.6689 - val_accuracy: 0.4754\n",
            "Epoch 46/50\n",
            "200/200 [==============================] - 1s 4ms/step - loss: 1.5919 - accuracy: 0.5002 - val_loss: 1.6496 - val_accuracy: 0.4826\n",
            "Epoch 47/50\n",
            "200/200 [==============================] - 1s 4ms/step - loss: 1.5914 - accuracy: 0.5002 - val_loss: 1.6382 - val_accuracy: 0.4877\n",
            "Epoch 48/50\n",
            "200/200 [==============================] - 1s 4ms/step - loss: 1.5912 - accuracy: 0.4993 - val_loss: 1.6432 - val_accuracy: 0.4774\n",
            "Epoch 49/50\n",
            "200/200 [==============================] - 1s 4ms/step - loss: 1.5987 - accuracy: 0.5000 - val_loss: 1.6396 - val_accuracy: 0.4867\n",
            "Epoch 50/50\n",
            "200/200 [==============================] - 1s 4ms/step - loss: 1.5907 - accuracy: 0.5012 - val_loss: 1.6325 - val_accuracy: 0.4857\n"
          ]
        }
      ]
    },
    {
      "cell_type": "code",
      "source": [
        "NetB_training_loss = NetB_performance.history['loss']"
      ],
      "metadata": {
        "id": "ipXf_7GCvCKv"
      },
      "execution_count": 151,
      "outputs": []
    },
    {
      "cell_type": "code",
      "source": [
        "NetB_test_loss = NetB_performance.history['val_loss']"
      ],
      "metadata": {
        "id": "_GGQJagDvCFh"
      },
      "execution_count": 152,
      "outputs": []
    },
    {
      "cell_type": "code",
      "source": [
        "NetB_epoches = range(1,len(NetB_training_loss)+1)"
      ],
      "metadata": {
        "id": "xODUx7Csw9bU"
      },
      "execution_count": 153,
      "outputs": []
    },
    {
      "cell_type": "code",
      "source": [
        "plt.plot(NetB_epoches,NetB_training_loss,'go',label='NetB_training_loss')\n",
        "plt.plot(NetB_epoches,NetB_test_loss,'b',label='NetB_test_loss')\n",
        "plt.title('NetB Training and Test_loss')\n",
        "plt.xlabel('NetB_loss')\n",
        "plt.ylabel('epoches')\n",
        "plt.legend()\n",
        "plt.show()"
      ],
      "metadata": {
        "colab": {
          "base_uri": "https://localhost:8080/",
          "height": 296
        },
        "id": "Ke7mlh1Tw9aN",
        "outputId": "c7e6a5eb-4199-4a3e-a6ce-0f0daf7543b4"
      },
      "execution_count": 154,
      "outputs": [
        {
          "output_type": "display_data",
          "data": {
            "image/png": "[encoded data removed]",
            "text/plain": [
              "<Figure size 432x288 with 1 Axes>"
            ]
          },
          "metadata": {
            "needs_background": "light"
          }
        }
      ]
    },
    {
      "cell_type": "code",
      "source": [
        ""
      ],
      "metadata": {
        "id": "2WnHNVhEw9VT"
      },
      "execution_count": 171,
      "outputs": []
    },
    {
      "cell_type": "markdown",
      "source": [
        "# Third network(NetC)"
      ],
      "metadata": {
        "id": "wXFx6BUGWMsC"
      }
    },
    {
      "cell_type": "code",
      "source": [
        "# normalising the pixel values for better computation\n",
        "train_norm = x_train / 255.0\n",
        "test_norm = x_test / 255.0"
      ],
      "metadata": {
        "id": "Eqfn7JimNJNw"
      },
      "execution_count": 155,
      "outputs": []
    },
    {
      "cell_type": "code",
      "source": [
        "class NetC:\n",
        "  @staticmethod\n",
        "  def Network_C():\n",
        "    \n",
        "    NetC = Sequential(name=\"NetC\")\n",
        "    NetC.add(InputLayer(input_shape=(32,32,3)))\n",
        "   \n",
        "    NetC.add(Conv2D(filters=25,kernel_size=5,padding=\"valid\",input_shape=(32,32,3),kernel_initializer='glorot_normal',use_bias=True,kernel_regularizer='l2'))\n",
        "    NetC.add(MaxPool2D(strides=2))\n",
        "    NetC.add(ReLU())\n",
        "\n",
        "    NetC.add(Flatten())\n",
        "    NetC.add(Dense(units=10,activation=\"softmax\"))\n",
        "    \n",
        "    return NetC"
      ],
      "metadata": {
        "id": "QMsM-UiLs2nJ"
      },
      "execution_count": 157,
      "outputs": []
    },
    {
      "cell_type": "code",
      "source": [
        "NetworkC = NetC.Network_C()"
      ],
      "metadata": {
        "id": "X64-Eg30tMxb"
      },
      "execution_count": 158,
      "outputs": []
    },
    {
      "cell_type": "code",
      "source": [
        "NetworkC.summary()"
      ],
      "metadata": {
        "colab": {
          "base_uri": "https://localhost:8080/"
        },
        "id": "g2jGvCUutMwj",
        "outputId": "4acebe3c-f33f-4967-8cd5-af5f40b9f6d6"
      },
      "execution_count": 159,
      "outputs": [
        {
          "output_type": "stream",
          "name": "stdout",
          "text": [
            "Model: \"NetC\"\n",
            "_________________________________________________________________\n",
            " Layer (type)                Output Shape              Param #   \n",
            "=================================================================\n",
            " conv2d_9 (Conv2D)           (None, 28, 28, 25)        1900      \n",
            "                                                                 \n",
            " max_pooling2d_6 (MaxPooling  (None, 14, 14, 25)       0         \n",
            " 2D)                                                             \n",
            "                                                                 \n",
            " re_lu_10 (ReLU)             (None, 14, 14, 25)        0         \n",
            "                                                                 \n",
            " flatten_15 (Flatten)        (None, 4900)              0         \n",
            "                                                                 \n",
            " dense_16 (Dense)            (None, 10)                49010     \n",
            "                                                                 \n",
            "=================================================================\n",
            "Total params: 50,910\n",
            "Trainable params: 50,910\n",
            "Non-trainable params: 0\n",
            "_________________________________________________________________\n"
          ]
        }
      ]
    },
    {
      "cell_type": "code",
      "source": [
        "NetworkC.compile(optimizer='adam',loss='sparse_categorical_crossentropy',metrics=['accuracy'])"
      ],
      "metadata": {
        "id": "2R0Ufb_rtMrX"
      },
      "execution_count": 160,
      "outputs": []
    },
    {
      "cell_type": "code",
      "source": [
        "NetC_performance = NetworkC.fit(train_norm,y_train,batch_size=250,validation_data = (test_norm,y_test),epochs=50,verbose=1)"
      ],
      "metadata": {
        "colab": {
          "base_uri": "https://localhost:8080/"
        },
        "id": "Fkg8uEfmsmDO",
        "outputId": "a475d63b-bdfa-459a-9e5e-9056cb1e8a67"
      },
      "execution_count": 161,
      "outputs": [
        {
          "output_type": "stream",
          "name": "stdout",
          "text": [
            "Epoch 1/50\n",
            "200/200 [==============================] - 2s 6ms/step - loss: 1.7998 - accuracy: 0.3829 - val_loss: 1.5686 - val_accuracy: 0.4687\n",
            "Epoch 2/50\n",
            "200/200 [==============================] - 1s 5ms/step - loss: 1.4850 - accuracy: 0.4971 - val_loss: 1.4108 - val_accuracy: 0.5268\n",
            "Epoch 3/50\n",
            "200/200 [==============================] - 1s 5ms/step - loss: 1.3719 - accuracy: 0.5407 - val_loss: 1.3516 - val_accuracy: 0.5423\n",
            "Epoch 4/50\n",
            "200/200 [==============================] - 1s 5ms/step - loss: 1.3112 - accuracy: 0.5608 - val_loss: 1.3172 - val_accuracy: 0.5545\n",
            "Epoch 5/50\n",
            "200/200 [==============================] - 1s 5ms/step - loss: 1.2598 - accuracy: 0.5805 - val_loss: 1.2885 - val_accuracy: 0.5617\n",
            "Epoch 6/50\n",
            "200/200 [==============================] - 1s 5ms/step - loss: 1.2292 - accuracy: 0.5929 - val_loss: 1.2524 - val_accuracy: 0.5768\n",
            "Epoch 7/50\n",
            "200/200 [==============================] - 1s 5ms/step - loss: 1.1914 - accuracy: 0.6062 - val_loss: 1.2258 - val_accuracy: 0.5876\n",
            "Epoch 8/50\n",
            "200/200 [==============================] - 1s 5ms/step - loss: 1.1649 - accuracy: 0.6170 - val_loss: 1.2238 - val_accuracy: 0.5892\n",
            "Epoch 9/50\n",
            "200/200 [==============================] - 1s 5ms/step - loss: 1.1421 - accuracy: 0.6261 - val_loss: 1.1745 - val_accuracy: 0.6068\n",
            "Epoch 10/50\n",
            "200/200 [==============================] - 1s 5ms/step - loss: 1.1190 - accuracy: 0.6331 - val_loss: 1.1567 - val_accuracy: 0.6203\n",
            "Epoch 11/50\n",
            "200/200 [==============================] - 1s 5ms/step - loss: 1.1048 - accuracy: 0.6382 - val_loss: 1.1586 - val_accuracy: 0.6140\n",
            "Epoch 12/50\n",
            "200/200 [==============================] - 1s 5ms/step - loss: 1.0868 - accuracy: 0.6448 - val_loss: 1.1428 - val_accuracy: 0.6230\n",
            "Epoch 13/50\n",
            "200/200 [==============================] - 1s 5ms/step - loss: 1.0738 - accuracy: 0.6487 - val_loss: 1.1730 - val_accuracy: 0.6108\n",
            "Epoch 14/50\n",
            "200/200 [==============================] - 1s 5ms/step - loss: 1.0573 - accuracy: 0.6566 - val_loss: 1.1527 - val_accuracy: 0.6211\n",
            "Epoch 15/50\n",
            "200/200 [==============================] - 1s 5ms/step - loss: 1.0472 - accuracy: 0.6584 - val_loss: 1.1176 - val_accuracy: 0.6301\n",
            "Epoch 16/50\n",
            "200/200 [==============================] - 1s 5ms/step - loss: 1.0377 - accuracy: 0.6606 - val_loss: 1.1542 - val_accuracy: 0.6183\n",
            "Epoch 17/50\n",
            "200/200 [==============================] - 1s 5ms/step - loss: 1.0268 - accuracy: 0.6668 - val_loss: 1.1361 - val_accuracy: 0.6209\n",
            "Epoch 18/50\n",
            "200/200 [==============================] - 1s 5ms/step - loss: 1.0203 - accuracy: 0.6702 - val_loss: 1.1286 - val_accuracy: 0.6312\n",
            "Epoch 19/50\n",
            "200/200 [==============================] - 1s 5ms/step - loss: 1.0099 - accuracy: 0.6743 - val_loss: 1.1255 - val_accuracy: 0.6287\n",
            "Epoch 20/50\n",
            "200/200 [==============================] - 1s 5ms/step - loss: 1.0041 - accuracy: 0.6735 - val_loss: 1.1037 - val_accuracy: 0.6391\n",
            "Epoch 21/50\n",
            "200/200 [==============================] - 1s 5ms/step - loss: 0.9996 - accuracy: 0.6765 - val_loss: 1.1132 - val_accuracy: 0.6301\n",
            "Epoch 22/50\n",
            "200/200 [==============================] - 1s 5ms/step - loss: 0.9931 - accuracy: 0.6785 - val_loss: 1.1481 - val_accuracy: 0.6212\n",
            "Epoch 23/50\n",
            "200/200 [==============================] - 1s 5ms/step - loss: 0.9898 - accuracy: 0.6807 - val_loss: 1.1159 - val_accuracy: 0.6282\n",
            "Epoch 24/50\n",
            "200/200 [==============================] - 1s 5ms/step - loss: 0.9804 - accuracy: 0.6850 - val_loss: 1.0815 - val_accuracy: 0.6428\n",
            "Epoch 25/50\n",
            "200/200 [==============================] - 1s 5ms/step - loss: 0.9748 - accuracy: 0.6856 - val_loss: 1.1327 - val_accuracy: 0.6209\n",
            "Epoch 26/50\n",
            "200/200 [==============================] - 1s 5ms/step - loss: 0.9697 - accuracy: 0.6891 - val_loss: 1.1187 - val_accuracy: 0.6291\n",
            "Epoch 27/50\n",
            "200/200 [==============================] - 1s 5ms/step - loss: 0.9611 - accuracy: 0.6935 - val_loss: 1.0767 - val_accuracy: 0.6468\n",
            "Epoch 28/50\n",
            "200/200 [==============================] - 1s 5ms/step - loss: 0.9563 - accuracy: 0.6943 - val_loss: 1.1168 - val_accuracy: 0.6307\n",
            "Epoch 29/50\n",
            "200/200 [==============================] - 1s 5ms/step - loss: 0.9554 - accuracy: 0.6926 - val_loss: 1.0844 - val_accuracy: 0.6463\n",
            "Epoch 30/50\n",
            "200/200 [==============================] - 1s 5ms/step - loss: 0.9460 - accuracy: 0.6971 - val_loss: 1.0833 - val_accuracy: 0.6420\n",
            "Epoch 31/50\n",
            "200/200 [==============================] - 1s 5ms/step - loss: 0.9457 - accuracy: 0.6952 - val_loss: 1.0983 - val_accuracy: 0.6387\n",
            "Epoch 32/50\n",
            "200/200 [==============================] - 1s 5ms/step - loss: 0.9360 - accuracy: 0.7006 - val_loss: 1.0915 - val_accuracy: 0.6455\n",
            "Epoch 33/50\n",
            "200/200 [==============================] - 1s 5ms/step - loss: 0.9406 - accuracy: 0.6988 - val_loss: 1.1585 - val_accuracy: 0.6181\n",
            "Epoch 34/50\n",
            "200/200 [==============================] - 1s 5ms/step - loss: 0.9353 - accuracy: 0.6999 - val_loss: 1.0853 - val_accuracy: 0.6427\n",
            "Epoch 35/50\n",
            "200/200 [==============================] - 1s 5ms/step - loss: 0.9352 - accuracy: 0.7019 - val_loss: 1.0962 - val_accuracy: 0.6478\n",
            "Epoch 36/50\n",
            "200/200 [==============================] - 1s 5ms/step - loss: 0.9274 - accuracy: 0.7021 - val_loss: 1.1136 - val_accuracy: 0.6299\n",
            "Epoch 37/50\n",
            "200/200 [==============================] - 1s 5ms/step - loss: 0.9281 - accuracy: 0.7042 - val_loss: 1.0918 - val_accuracy: 0.6439\n",
            "Epoch 38/50\n",
            "200/200 [==============================] - 1s 5ms/step - loss: 0.9268 - accuracy: 0.7044 - val_loss: 1.1336 - val_accuracy: 0.6287\n",
            "Epoch 39/50\n",
            "200/200 [==============================] - 1s 5ms/step - loss: 0.9231 - accuracy: 0.7058 - val_loss: 1.0977 - val_accuracy: 0.6415\n",
            "Epoch 40/50\n",
            "200/200 [==============================] - 1s 5ms/step - loss: 0.9126 - accuracy: 0.7096 - val_loss: 1.0826 - val_accuracy: 0.6496\n",
            "Epoch 41/50\n",
            "200/200 [==============================] - 1s 5ms/step - loss: 0.9150 - accuracy: 0.7071 - val_loss: 1.0828 - val_accuracy: 0.6428\n",
            "Epoch 42/50\n",
            "200/200 [==============================] - 1s 5ms/step - loss: 0.9095 - accuracy: 0.7098 - val_loss: 1.0815 - val_accuracy: 0.6428\n",
            "Epoch 43/50\n",
            "200/200 [==============================] - 1s 5ms/step - loss: 0.9064 - accuracy: 0.7120 - val_loss: 1.0994 - val_accuracy: 0.6408\n",
            "Epoch 44/50\n",
            "200/200 [==============================] - 1s 5ms/step - loss: 0.9067 - accuracy: 0.7113 - val_loss: 1.0864 - val_accuracy: 0.6472\n",
            "Epoch 45/50\n",
            "200/200 [==============================] - 1s 5ms/step - loss: 0.9007 - accuracy: 0.7152 - val_loss: 1.0731 - val_accuracy: 0.6497\n",
            "Epoch 46/50\n",
            "200/200 [==============================] - 1s 5ms/step - loss: 0.8963 - accuracy: 0.7154 - val_loss: 1.0726 - val_accuracy: 0.6492\n",
            "Epoch 47/50\n",
            "200/200 [==============================] - 1s 5ms/step - loss: 0.8954 - accuracy: 0.7150 - val_loss: 1.1004 - val_accuracy: 0.6439\n",
            "Epoch 48/50\n",
            "200/200 [==============================] - 1s 5ms/step - loss: 0.8933 - accuracy: 0.7154 - val_loss: 1.0785 - val_accuracy: 0.6454\n",
            "Epoch 49/50\n",
            "200/200 [==============================] - 1s 5ms/step - loss: 0.8925 - accuracy: 0.7162 - val_loss: 1.1062 - val_accuracy: 0.6407\n",
            "Epoch 50/50\n",
            "200/200 [==============================] - 1s 5ms/step - loss: 0.8936 - accuracy: 0.7161 - val_loss: 1.0888 - val_accuracy: 0.6471\n"
          ]
        }
      ]
    },
    {
      "cell_type": "code",
      "source": [
        "NetC_training_loss = NetC_performance.history['loss']"
      ],
      "metadata": {
        "id": "m1Z8bWKyvezW"
      },
      "execution_count": 162,
      "outputs": []
    },
    {
      "cell_type": "code",
      "source": [
        "NetC_test_loss = NetC_performance.history['val_loss']"
      ],
      "metadata": {
        "id": "eq5v3oXDveu-"
      },
      "execution_count": 163,
      "outputs": []
    },
    {
      "cell_type": "code",
      "source": [
        "NetC_epoches = range(1,len(NetC_training_loss)+1)"
      ],
      "metadata": {
        "id": "8Qh9GVT-veti"
      },
      "execution_count": 164,
      "outputs": []
    },
    {
      "cell_type": "code",
      "source": [
        "plt.plot(NetC_epoches,NetC_training_loss,'go',label='NetC_training_loss')\n",
        "plt.plot(NetC_epoches,NetC_test_loss,'b',label='NetC_test_loss')\n",
        "plt.title('NetC Training and Test_loss')\n",
        "plt.xlabel('NetC_loss')\n",
        "plt.ylabel('epoches')\n",
        "plt.legend()\n",
        "plt.show()"
      ],
      "metadata": {
        "colab": {
          "base_uri": "https://localhost:8080/",
          "height": 296
        },
        "id": "hypzA2JTxUdl",
        "outputId": "7337e9db-75f7-4c57-f14f-f20c45996704"
      },
      "execution_count": 166,
      "outputs": [
        {
          "output_type": "display_data",
          "data": {
            "image/png": "[encoded data removed]",
            "text/plain": [
              "<Figure size 432x288 with 1 Axes>"
            ]
          },
          "metadata": {
            "needs_background": "light"
          }
        }
      ]
    },
    {
      "cell_type": "code",
      "source": [
        ""
      ],
      "metadata": {
        "id": "4M6RVJoZZyhK"
      },
      "execution_count": null,
      "outputs": []
    },
    {
      "cell_type": "code",
      "source": [
        ""
      ],
      "metadata": {
        "id": "Oc-pZYffZycb"
      },
      "execution_count": null,
      "outputs": []
    },
    {
      "cell_type": "markdown",
      "source": [
        "# Summary and Ploting Accuracy History"
      ],
      "metadata": {
        "id": "ZIgx92u2fgRo"
      }
    },
    {
      "cell_type": "code",
      "source": [
        "NetA_training_accuracy = NetworkA.evaluate(x_train,y_train)\n",
        "NetA_test_accuracy = NetworkA.evaluate(x_test,y_test)\n",
        "\n",
        "NetB_training_accuracy = NetworkB.evaluate(x_train,y_train)\n",
        "NetB_test_accuracy = NetworkB.evaluate(x_test,y_test)\n",
        "\n",
        "NetC_training_accuracy = NetworkC.evaluate(x_train,y_train)\n",
        "NetC_test_accuracy = NetworkC.evaluate(x_test,y_test)"
      ],
      "metadata": {
        "colab": {
          "base_uri": "https://localhost:8080/"
        },
        "id": "qyhJb-36dq45",
        "outputId": "9ca9534b-6e06-4ba5-d3e5-f5ea4d2e2f1d"
      },
      "execution_count": 191,
      "outputs": [
        {
          "output_type": "stream",
          "name": "stdout",
          "text": [
            "1563/1563 [==============================] - 5s 3ms/step - loss: 45.4114 - accuracy: 0.2625\n",
            "313/313 [==============================] - 1s 2ms/step - loss: 49.6112 - accuracy: 0.2487\n",
            "1563/1563 [==============================] - 4s 3ms/step - loss: 62.2197 - accuracy: 0.4059\n",
            "313/313 [==============================] - 1s 3ms/step - loss: 67.7762 - accuracy: 0.3771\n",
            "1563/1563 [==============================] - 4s 3ms/step - loss: 312.6393 - accuracy: 0.4886\n",
            "313/313 [==============================] - 1s 3ms/step - loss: 364.9128 - accuracy: 0.4584\n"
          ]
        }
      ]
    },
    {
      "cell_type": "code",
      "source": [
        "pip install colorama"
      ],
      "metadata": {
        "colab": {
          "base_uri": "https://localhost:8080/"
        },
        "id": "d5grUfkKgEax",
        "outputId": "71a002bb-3377-4a9f-fb92-b690613d8bc8"
      },
      "execution_count": 196,
      "outputs": [
        {
          "output_type": "stream",
          "name": "stdout",
          "text": [
            "Collecting colorama\n",
            "  Downloading colorama-0.4.4-py2.py3-none-any.whl (16 kB)\n",
            "Installing collected packages: colorama\n",
            "Successfully installed colorama-0.4.4\n"
          ]
        }
      ]
    },
    {
      "cell_type": "code",
      "source": [
        "import colorama\n",
        "from colorama import Fore\n",
        "\n",
        "print(Fore.GREEN +f'NetA training accuracy: {NetA_training_accuracy[1]}')\n",
        "print(Fore.BLUE +f'NetA test accuracy: {NetA_test_accuracy[1]}')\n",
        "print()\n",
        "print(Fore.GREEN +f'NetB training accuracy: {NetB_training_accuracy[1]}')\n",
        "print(Fore.BLUE +f'NetB test accuracy: {NetB_test_accuracy[1]}')\n",
        "print()\n",
        "print(Fore.GREEN +f'NetC training accuracy: {NetC_training_accuracy[1]}')\n",
        "print(Fore.BLUE +f'NetC test accuracy: {NetC_test_accuracy[1]}')"
      ],
      "metadata": {
        "colab": {
          "base_uri": "https://localhost:8080/"
        },
        "id": "XD25JUEZdq2g",
        "outputId": "752bfae7-dd88-4613-fcec-78d09b329b56"
      },
      "execution_count": 204,
      "outputs": [
        {
          "output_type": "stream",
          "name": "stdout",
          "text": [
            "\u001b[32mNetA training accuracy: 0.2625199854373932\n",
            "\u001b[34mNetA test accuracy: 0.24869999289512634\n",
            "\n",
            "\u001b[32mNetB training accuracy: 0.4059399962425232\n",
            "\u001b[34mNetB test accuracy: 0.37709999084472656\n",
            "\n",
            "\u001b[32mNetC training accuracy: 0.4886400103569031\n",
            "\u001b[34mNetC test accuracy: 0.45840001106262207\n"
          ]
        }
      ]
    },
    {
      "cell_type": "code",
      "source": [
        "# Getting the accuracy histories\n",
        "\n",
        "NetA_training_accuracy_hist = NetA_performance.history['accuracy']\n",
        "NetA_test_accuracy_hist = NetA_performance.history['val_accuracy']\n",
        "\n",
        "NetB_training_accuracy_hist = NetB_performance.history['accuracy']\n",
        "NetB_test_accuracy_hist = NetB_performance.history['val_accuracy']\n",
        "\n",
        "NetC_training_accuracy_hist = NetC_performance.history['accuracy']\n",
        "NetC_test_accuracy_hist = NetC_performance.history['val_accuracy']"
      ],
      "metadata": {
        "id": "-7RYS_uvcxhr"
      },
      "execution_count": 187,
      "outputs": []
    },
    {
      "cell_type": "code",
      "source": [
        "# Plotting the accuracy histories\n",
        "\n",
        "plot1 = plt.subplot2grid((3, 3), (0, 0), colspan=2)\n",
        "plot2 = plt.subplot2grid((3, 3), (0, 2), rowspan=3, colspan=2)\n",
        "plot3 = plt.subplot2grid((3, 3), (1, 0), rowspan=2)\n",
        "\n",
        "plot1.plot(NetA_epoches,NetA_training_accuracy_hist,'go',label='training_accuracy')\n",
        "plot1.plot(NetA_epoches,NetA_test_accuracy_hist,'b',label='test_accuracy')\n",
        "plot1.set_title('NetA')\n",
        "\n",
        "plot2.plot(NetB_epoches,NetB_training_accuracy_hist,'go',label='training_accuracy')\n",
        "plot2.plot(NetB_epoches,NetB_test_accuracy_hist,'b',label='test_accuracy')\n",
        "plot2.set_title('NetB')\n",
        "\n",
        "plot3.plot(NetC_epoches,NetC_training_accuracy_hist,'go',label='training_acuracy')\n",
        "plot3.plot(NetC_epoches,NetC_test_accuracy_hist,'b',label='test_accuracy')\n",
        "plot3.set_title('NetC')\n",
        "plt.gcf().set_size_inches(15, 10)\n",
        "\n",
        "plt.legend()\n",
        "plt.show()"
      ],
      "metadata": {
        "colab": {
          "base_uri": "https://localhost:8080/",
          "height": 607
        },
        "id": "vX4Ay6BCbE3B",
        "outputId": "6c207d38-454e-4724-a063-49cabb0f9278"
      },
      "execution_count": 188,
      "outputs": [
        {
          "output_type": "display_data",
          "data": {
            "image/png": "[encoded data removed]",
            "text/plain": [
              "<Figure size 1080x720 with 3 Axes>"
            ]
          },
          "metadata": {
            "needs_background": "light"
          }
        }
      ]
    },
    {
      "cell_type": "code",
      "source": [
        ""
      ],
      "metadata": {
        "id": "6vbJo6yQW2ae"
      },
      "execution_count": null,
      "outputs": []
    }
  ]
}